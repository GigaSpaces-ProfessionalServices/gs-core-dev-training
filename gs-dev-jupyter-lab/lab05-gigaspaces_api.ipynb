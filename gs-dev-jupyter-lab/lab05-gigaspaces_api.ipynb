{
 "cells": [
  {
   "cell_type": "markdown",
   "id": "8d97afc6-8521-4192-a51e-97993b4a6575",
   "metadata": {},
   "source": [
    "%%markdown\n",
    "\n",
    "# GigaSpaces API Examples\n",
    "This notebook will demonstrate the basics of the GigaSpaces API.\n",
    "\n"
   ]
  },
  {
   "cell_type": "markdown",
   "id": "8f3b79ae-3fa6-4203-8688-3f6e7832d429",
   "metadata": {},
   "source": [
    "%%markdown\n",
    "\n",
    "##### POJO definition\n",
    "\n",
    "1.  The accompanying Maven project can be found at ~/gs-core-dev-training/jupyter. `mvn install` has been run and it is now accessible to this notebook."
   ]
  },
  {
   "cell_type": "code",
   "execution_count": null,
   "id": "e2bbedf4-5045-4b93-9472-40c31e063b1f",
   "metadata": {},
   "outputs": [],
   "source": [
    "%%pom\n",
    "repositories:\n",
    "  - id: org.openspaces\n",
    "    url: https://maven-repository.openspaces.org\n",
    "dependencies:\n",
    "  - groupId: org.gigaspaces\n",
    "    artifactId: xap-openspaces\n",
    "    version: 16.4.0\n",
    "    \n",
    "  - groupId: com.gigaspaces\n",
    "    artifactId: xap-jdbc\n",
    "    version: 16.4.0\n",
    "    \n",
    "  - groupId: com.gigaspaces.training\n",
    "    artifactId: model\n",
    "    version: 1.0\n",
    "        "
   ]
  },
  {
   "cell_type": "markdown",
   "id": "b0b697c6-171c-42ee-9bf7-e996bc7e4e72",
   "metadata": {},
   "source": [
    "%%markdown\n",
    "\n",
    "##### Here is a look at the pojo that will be used in this lesson."
   ]
  },
  {
   "cell_type": "code",
   "execution_count": null,
   "id": "09d537a6-507f-444c-a922-55d270b476bd",
   "metadata": {},
   "outputs": [],
   "source": [
    "%%bash\n",
    "\n",
    "cat jupyter-maven/model/src/main/java/com/gigaspaces/training/model/MyPojo.java"
   ]
  },
  {
   "cell_type": "code",
   "execution_count": null,
   "id": "5a0cff02-883e-498b-af09-9c1066ff115e",
   "metadata": {},
   "outputs": [],
   "source": [
    "%%classpath"
   ]
  },
  {
   "cell_type": "code",
   "execution_count": null,
   "id": "2af5a3c6-ebf9-4a00-9869-01a677f97c93",
   "metadata": {},
   "outputs": [],
   "source": [
    "%%java\n",
    "\n",
    "import com.gigaspaces.training.model.MyPojo;\n",
    "\n",
    "// readById and readByIds\n",
    "import com.gigaspaces.client.ReadByIdsResult;\n",
    "import com.gigaspaces.query.IdQuery;\n",
    "import com.gigaspaces.query.IdsQuery;\n",
    "\n",
    "// clear\n",
    "import com.gigaspaces.client.ClearModifiers;\n",
    "\n",
    "// SpaceDocuments\n",
    "import com.gigaspaces.document.DocumentProperties;\n",
    "import com.gigaspaces.document.SpaceDocument;\n",
    "import com.gigaspaces.metadata.SpaceTypeDescriptor;\n",
    "import com.gigaspaces.metadata.SpaceTypeDescriptorBuilder;\n",
    "import java.util.Map;\n",
    "import java.util.HashMap;\n",
    "\n",
    "import com.j_spaces.core.client.SQLQuery;\n",
    "\n",
    "// jdbc\n",
    "import java.sql.Connection;\n",
    "import java.sql.DriverManager;\n",
    "import java.sql.ResultSet;\n",
    "import java.sql.Statement;\n",
    "import java.sql.SQLException;\n",
    "import java.util.Properties;\n",
    "\n",
    "import org.openspaces.core.GigaSpace;\n",
    "import org.openspaces.core.GigaSpaceConfigurer;\n",
    "import org.openspaces.core.space.EmbeddedSpaceConfigurer;\n",
    "\n"
   ]
  },
  {
   "cell_type": "code",
   "execution_count": null,
   "id": "efad1863-78a6-48e7-8833-9a28d0b3a2cc",
   "metadata": {},
   "outputs": [],
   "source": [
    "%%java\n",
    "// an example of instantiating an embedded space.\n",
    "\n",
    "EmbeddedSpaceConfigurer configurer = new EmbeddedSpaceConfigurer(\"demo\");\n",
    "GigaSpace gigaSpace = new GigaSpaceConfigurer(configurer).gigaSpace();\n"
   ]
  },
  {
   "cell_type": "code",
   "execution_count": null,
   "id": "f45b3731-eda2-423f-ad62-2791a5aa64ab",
   "metadata": {},
   "outputs": [],
   "source": [
    "%%java\n",
    "\n",
    "// write objects\n",
    "    \n",
    "for( int i=0; i < 10; i++) {\n",
    "    MyPojo myPojo = new MyPojo();\n",
    "    myPojo.setId(i);\n",
    "    myPojo.setMessage(\"msg: \" + i);\n",
    "    gigaSpace.write(myPojo);\n",
    "}"
   ]
  },
  {
   "cell_type": "code",
   "execution_count": null,
   "id": "f878b403-5898-4b22-bdd4-a58deb1c2b84",
   "metadata": {},
   "outputs": [],
   "source": [
    "%%java\n",
    "// count\n",
    "\n",
    "int numObjects = gigaSpace.count(new MyPojo());\n",
    "System.out.println(\"The number of MyPojo objects is: \" + numObjects);"
   ]
  },
  {
   "cell_type": "markdown",
   "id": "96aba0c8-8dfe-4560-9c5a-092801951f1c",
   "metadata": {},
   "source": [
    "%%markdown\n",
    "\n",
    "##### readById\n",
    "\n",
    "readById is used with an idQuery and is used to read based on id. It is a very efficient API when compared to the other read APIs.\n"
   ]
  },
  {
   "cell_type": "code",
   "execution_count": null,
   "id": "fcd96291-68cb-466f-9896-59e893b8d410",
   "metadata": {},
   "outputs": [],
   "source": [
    "%%java\n",
    "\n",
    "// readById example\n",
    "Integer id = 3;\n",
    "IdQuery<MyPojo> idQuery = new IdQuery<MyPojo>(MyPojo.class, id);\n",
    "\n",
    "MyPojo returnValue = gigaSpace.readById(idQuery);\n",
    "\n",
    "System.out.println(\"Value returned: \" + returnValue);\n"
   ]
  },
  {
   "cell_type": "markdown",
   "id": "c10872f9-dc6f-403c-81b6-4dcf70306cbf",
   "metadata": {},
   "source": [
    "%%markdown\n",
    "\n",
    "##### readByIds\n",
    "\n",
    "Similiar to readById, readByIds is used to read based on ids. The collection of objects returned can be read from the ReadByIdsResult object.\n"
   ]
  },
  {
   "cell_type": "code",
   "execution_count": null,
   "id": "7e90263b-9558-4699-83b0-b8f295660c8d",
   "metadata": {},
   "outputs": [],
   "source": [
    "%%java\n",
    "\n",
    "// readByIds example\n",
    "Integer[] ids = new Integer[]{1, 3, 5};\n",
    "IdsQuery<MyPojo> idsQuery = new IdsQuery<MyPojo>(MyPojo.class, ids);\n",
    "\n",
    "ReadByIdsResult<MyPojo> results = gigaSpace.readByIds(idsQuery);\n",
    "\n",
    "for (MyPojo value: results) {\n",
    "    System.out.println(\"Value returned: \" + value);\n",
    "}"
   ]
  },
  {
   "cell_type": "markdown",
   "id": "68e458b7-3aba-4f9b-aa0e-9c9f820e50b6",
   "metadata": {},
   "source": [
    "%%markdown\n",
    "\n",
    "##### template matching is an efficient way to query for objects\n",
    "\n",
    "1. It should be used for `=` matching.\n",
    "2. The template should be the type of the object you wish to query for.\n",
    "3. All null values in the template object are treated as wild card.\n",
    "4. GigaSpaces will match the non-null values with the objects in the space. "
   ]
  },
  {
   "cell_type": "code",
   "execution_count": null,
   "id": "28522d56-441f-47db-aea9-8f2aa1e63781",
   "metadata": {},
   "outputs": [],
   "source": [
    "%%java\n",
    "\n",
    "// read example using template object\n",
    "MyPojo template = new MyPojo();\n",
    "template.setId(7);\n",
    "\n",
    "MyPojo returnValue = gigaSpace.read(template);\n",
    "\n",
    "System.out.println(\"read returned MyPojo with id of: \" + returnValue.getId());"
   ]
  },
  {
   "cell_type": "code",
   "execution_count": null,
   "id": "f93adc57-1d92-4e7a-be9e-f34d9deb75ab",
   "metadata": {},
   "outputs": [],
   "source": [
    "%%markdown\n",
    "\n",
    "##### SQLQuery\n",
    "\n",
    "1. GigaSpaces can query objects based on SQLQuery."
   ]
  },
  {
   "cell_type": "code",
   "execution_count": null,
   "id": "00700c39-d8e7-4abd-a81a-3f8104e688b2",
   "metadata": {},
   "outputs": [],
   "source": [
    "%%java\n",
    "\n",
    "// read example using SQLQuery\n",
    "int id = 7;\n",
    "SQLQuery<MyPojo> sqlQuery = new SQLQuery<MyPojo>(MyPojo.class, \"id = ?\");\n",
    "sqlQuery.setParameter(1, id);\n",
    "\n",
    "MyPojo sqlQueryReturnValue = gigaSpace.read(sqlQuery);\n",
    "\n",
    "System.out.println(\"read returned MyPojo with id of: \" + sqlQueryReturnValue.getId());"
   ]
  },
  {
   "cell_type": "markdown",
   "id": "1f68adcf-b682-48b3-8958-46809ad49ed9",
   "metadata": {},
   "source": [
    "%%markdown\n",
    "\n",
    "##### take\n",
    "1. Take is like read, except it deletes the object from the space."
   ]
  },
  {
   "cell_type": "code",
   "execution_count": null,
   "id": "a0620a80-267f-4bff-91a7-6ce4dc92de9e",
   "metadata": {},
   "outputs": [],
   "source": [
    "%%java\n",
    "\n",
    "// take example\n",
    "template = new MyPojo();\n",
    "template.setId(9);\n",
    "\n",
    "MyPojo returnValue = gigaSpace.take(template);\n",
    "\n",
    "System.out.println(\"take removed: \" + returnValue);"
   ]
  },
  {
   "cell_type": "markdown",
   "id": "bc1db1e4-33c6-4221-830f-37ec588305c3",
   "metadata": {},
   "source": [
    "%%markdown\n",
    "\n",
    "##### clear\n",
    "1. clear also deletes the object from the space but it doesn't not return the object."
   ]
  },
  {
   "cell_type": "code",
   "execution_count": null,
   "id": "f737a509-a4ac-46a0-9bc1-c5c4e281f18c",
   "metadata": {},
   "outputs": [],
   "source": [
    "%%java\n",
    "\n",
    "// clear example\n",
    "template = new MyPojo();\n",
    "template.setId(9);\n",
    "\n",
    "int numItems = gigaSpace.clear(template, ClearModifiers.NONE);\n",
    "\n",
    "System.out.println(\"clear removed this many items: \" + numItems);"
   ]
  },
  {
   "cell_type": "markdown",
   "id": "0c44c099-d5ad-47d8-918a-2272dc418e6b",
   "metadata": {},
   "source": [
    "%%markdown\n",
    "\n",
    "##### SpaceDocument example\n",
    "\n",
    "1. Register type"
   ]
  },
  {
   "cell_type": "code",
   "execution_count": null,
   "id": "415ceac7-aa28-4d0f-bbf9-3cf1e976a209",
   "metadata": {},
   "outputs": [],
   "source": [
    "%%java\n",
    "\n",
    "SpaceTypeDescriptor typeDescriptor = new SpaceTypeDescriptorBuilder(\"ProductDescription\")\n",
    "            .idProperty(\"id\", false)\n",
    "            .create();\n",
    "\n",
    "// Register type:\n",
    "gigaSpace.getTypeManager().registerTypeDescriptor(typeDescriptor);\n"
   ]
  },
  {
   "cell_type": "markdown",
   "id": "bcc33fe0-f457-40e2-86a4-86f735a8c17a",
   "metadata": {},
   "source": [
    "%%markdown\n",
    "\n",
    "##### Writing a SpaceDocument object\n",
    "    \n",
    "1. Write using DocumentProperties type"
   ]
  },
  {
   "cell_type": "code",
   "execution_count": null,
   "id": "08e61905-0eaa-46e7-80e0-31810228b8ef",
   "metadata": {},
   "outputs": [],
   "source": [
    "%%java\n",
    "\n",
    "DocumentProperties properties = new DocumentProperties()\n",
    "    .setProperty(\"id\", \"1\")\n",
    "    .setProperty(\"Features\", new DocumentProperties()\n",
    "    .setProperty(\"Manufacturer\", \"Acme\")\n",
    "    .setProperty(\"RequiresAssembly\", true)\n",
    "    .setProperty(\"NumberOfParts\", 42));\n",
    "\n",
    "SpaceDocument document1 = new SpaceDocument(\"ProductDescription\", properties);\n",
    "gigaSpace.write(document1);\n"
   ]
  },
  {
   "cell_type": "markdown",
   "id": "2088b17b-d6b5-4bdd-b3d0-6ed1f0e48d11",
   "metadata": {},
   "source": [
    "%%markdown\n",
    "\n",
    "##### Writing a SpaceDocument object\n",
    "    \n",
    "1. Write using Map type"
   ]
  },
  {
   "cell_type": "code",
   "execution_count": null,
   "id": "9b04a692-6ecb-4c59-b46b-0246ce827cb8",
   "metadata": {},
   "outputs": [],
   "source": [
    "%%java\n",
    "\n",
    "Map<String, Object> map = new HashMap<String, Object>();\n",
    "\n",
    "map.put(\"id\", \"4\");\n",
    "\n",
    "Map<String, Object> features = new HashMap<String, Object>();\n",
    "features.put(\"Manufacturer\", \"Acme\");\n",
    "features.put(\"RequiresAssembly\", false);\n",
    "features.put(\"Weight\", 100);\n",
    "map.put(\"Features\", features);\n",
    "        \n",
    "SpaceDocument document2 = new SpaceDocument(\"ProductDescription\", map);\n",
    "gigaSpace.write(document2);\n"
   ]
  },
  {
   "cell_type": "markdown",
   "id": "8147de4e-cf17-4603-9ad9-b89cd297cdba",
   "metadata": {},
   "source": [
    "%%markdown\n",
    "\n",
    "##### Read a SpaceDocument"
   ]
  },
  {
   "cell_type": "code",
   "execution_count": null,
   "id": "1ad151dc-f20f-4010-b968-6d1d94abdfc5",
   "metadata": {},
   "outputs": [],
   "source": [
    "%%java\n",
    "\n",
    "IdQuery<SpaceDocument> query = new IdQuery<SpaceDocument>(\"ProductDescription\", \"1\");\n",
    "\n",
    "SpaceDocument document = gigaSpace.readById(query);\n",
    "\n",
    "if (document != null) {\n",
    "    System.out.println(\"id: \" +((Object) document.getProperty(\"id\")).toString());\n",
    "}\n",
    "else {\n",
    "    System.out.println(\"No space document read.\");\n",
    "}"
   ]
  },
  {
   "cell_type": "code",
   "execution_count": null,
   "id": "8ea84d75-f848-4084-987c-24c1a4c3fea0",
   "metadata": {},
   "outputs": [],
   "source": [
    "%%java\n",
    "\n",
    "try {\n",
    "\n",
    "    Properties props = new Properties();\n",
    "    props.put(\"com.gs.embeddedQP.enabled\", \"true\");\n",
    "\n",
    "    Connection conn = DriverManager.getConnection(\"jdbc:gigaspaces:v3://localhost/demo\", props);\n",
    "\n",
    "    Statement statement = conn.createStatement();\n",
    "    String query = \"select * from \\\"com.gigaspaces.training.model.MyPojo\\\"\";\n",
    "    ResultSet rs = statement.executeQuery(query);\n",
    "\n",
    "    while (rs.next()) {\n",
    "        int id = rs.getInt(\"id\");\n",
    "        String message = rs.getString(\"message\");\n",
    "        System.out.println(\"id: \" + id + \", message: \" + message);\n",
    "    }\n",
    "} catch (SQLException e) {\n",
    "    e.printStackTrace();\n",
    "} catch (Exception e) {\n",
    "    e.printStackTrace();\n",
    "}    \n"
   ]
  },
  {
   "cell_type": "code",
   "execution_count": null,
   "id": "ae75693f-8d11-4bf8-929e-5449f656cb9a",
   "metadata": {},
   "outputs": [],
   "source": []
  }
 ],
 "metadata": {
  "kernelspec": {
   "display_name": "Ganymede 2.1.2 (Java 17) with gs-dev-lab 1.0",
   "language": "java",
   "name": "ganymede-2.1.2-java-17-gs-dev-lab-1.0"
  },
  "language_info": {
   "file_extension": ".java",
   "mimetype": "text/x-java",
   "name": "java",
   "version": "11"
  }
 },
 "nbformat": 4,
 "nbformat_minor": 5
}
