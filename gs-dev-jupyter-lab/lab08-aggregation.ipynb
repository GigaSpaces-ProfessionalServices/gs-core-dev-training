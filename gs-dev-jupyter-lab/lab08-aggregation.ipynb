{
 "cells": [
  {
   "cell_type": "markdown",
   "id": "8d97afc6-8521-4192-a51e-97993b4a6575",
   "metadata": {},
   "source": [
    "%%markdown\n",
    "\n",
    "# GigaSpaces Aggregation Examples\n",
    "This notebook will demonstrate the basics of the GigaSpaces aggregation API.\n",
    "\n"
   ]
  },
  {
   "cell_type": "markdown",
   "id": "cd458719-4ddf-4031-a745-ce15718d591c",
   "metadata": {},
   "source": [
    "%%markdown\n",
    "\n",
    "##### GigaSpaces start up instructions\n",
    "\n",
    "1. In a console window, go to the GigaSpaces install directory/bin (for convenience GS_HOME has already been defined).\n",
    "\n",
    "`cd $GS_HOME/bin`\n",
    "\n",
    "2. Start the service grid with a manager and 4 GSCs (in developer mode)\n",
    "\n",
    "`./gs.sh host run-agent --auto --gsc=4`\n",
    "\n",
    "3. In another console window, deploy a space named demo.\n",
    "\n",
    "`./gs.sh space deploy --partitions=2 --ha demo`\n"
   ]
  },
  {
   "cell_type": "markdown",
   "id": "8f3b79ae-3fa6-4203-8688-3f6e7832d429",
   "metadata": {},
   "source": [
    "%%markdown\n",
    "\n",
    "##### POJO definition\n",
    "\n",
    "1. The accompanying Maven project can be found at ~/gs-core-dev-training/jupyter. `mvn install` has been run and it is now accessible to this notebook."
   ]
  },
  {
   "cell_type": "code",
   "execution_count": null,
   "id": "e2bbedf4-5045-4b93-9472-40c31e063b1f",
   "metadata": {},
   "outputs": [],
   "source": [
    "%%pom\n",
    "repositories:\n",
    "  - id: org.openspaces\n",
    "    url: https://maven-repository.openspaces.org\n",
    "dependencies:\n",
    "  - groupId: org.gigaspaces\n",
    "    artifactId: xap-openspaces\n",
    "    version: 16.4.0\n",
    "\n",
    "  - groupId: com.gigaspaces.training\n",
    "    artifactId: model\n",
    "    version: 1.0\n",
    "        "
   ]
  },
  {
   "cell_type": "code",
   "execution_count": null,
   "id": "5a0cff02-883e-498b-af09-9c1066ff115e",
   "metadata": {},
   "outputs": [],
   "source": [
    "%%classpath"
   ]
  },
  {
   "cell_type": "code",
   "execution_count": null,
   "id": "2af5a3c6-ebf9-4a00-9869-01a677f97c93",
   "metadata": {},
   "outputs": [],
   "source": [
    "%%java\n",
    "\n",
    "import com.gigaspaces.training.model.Product;\n",
    "\n",
    "import com.j_spaces.core.client.SQLQuery;\n",
    "\n",
    "import org.openspaces.core.GigaSpace;\n",
    "import org.openspaces.core.GigaSpaceConfigurer;\n",
    "import org.openspaces.core.space.EmbeddedSpaceConfigurer;\n",
    "\n",
    "import com.gigaspaces.query.aggregators.AggregationResult;\n",
    "import com.gigaspaces.query.aggregators.AggregationSet;\n",
    "\n",
    "import java.math.BigDecimal;\n",
    "\n"
   ]
  },
  {
   "cell_type": "code",
   "execution_count": null,
   "id": "f2b30eaf-67b0-4a7b-9783-641edc5c955e",
   "metadata": {},
   "outputs": [],
   "source": [
    "%%java\n",
    "// an example of instantiating an embedded space.\n",
    "\n",
    "EmbeddedSpaceConfigurer configurer = new EmbeddedSpaceConfigurer(\"demo\");\n",
    "GigaSpace gigaSpace = new GigaSpaceConfigurer(configurer).gigaSpace();\n"
   ]
  },
  {
   "cell_type": "code",
   "execution_count": null,
   "id": "f45b3731-eda2-423f-ad62-2791a5aa64ab",
   "metadata": {},
   "outputs": [],
   "source": [
    "%%java\n",
    "\n",
    "// write objects\n",
    "String[] names = new String[]{ \"Bicyle\", \"Playing Cards\", \"Chess Set\", \"Football\", \"Pickleball Paddle\", \n",
    "        \"Fishing Rod\", \"Soccer Ball\", \"Golf Club Set\", \"Frisbee\", \"Table Tennis Paddle\",\n",
    "        \"Cooler\", \"Water Bottle\", \"Baseball Glove\", \"Hockey Stick\", \"Hockey Puck\" };\n",
    "    \n",
    "    \n",
    "for( int i=0; i < 15; i++) {\n",
    "    Product product = new Product();\n",
    "    product.setId(i);\n",
    "    product.setName(names[i]);\n",
    "    product.setPrice(BigDecimal.valueOf(i + 1));\n",
    "    gigaSpace.write(product);\n",
    "}"
   ]
  },
  {
   "cell_type": "code",
   "execution_count": null,
   "id": "f878b403-5898-4b22-bdd4-a58deb1c2b84",
   "metadata": {},
   "outputs": [],
   "source": [
    "%%java\n",
    "// count\n",
    "\n",
    "int numObjects = gigaSpace.count(new Product());\n",
    "System.out.println(\"The number of Product objects is: \" + numObjects);"
   ]
  },
  {
   "cell_type": "code",
   "execution_count": null,
   "id": "28522d56-441f-47db-aea9-8f2aa1e63781",
   "metadata": {},
   "outputs": [],
   "source": [
    "%%java\n",
    "\n",
    "// aggregation example\n",
    "SQLQuery<Product> sqlQuery = new SQLQuery<Product>(Product.class, \"\");\n",
    "\n",
    "AggregationResult aggregationResult = gigaSpace.aggregate(sqlQuery,\n",
    "        new AggregationSet()\n",
    "            .maxEntry(\"price\").minEntry(\"price\")\n",
    "            .sum(\"price\").average(\"price\")\n",
    "            .minValue(\"price\").maxValue(\"price\"));\n",
    "\n",
    "Product highestPricedProduct  = (Product) aggregationResult.get(0);\n",
    "Product lowestPricedProduct = (Product) aggregationResult.get(1);\n",
    "BigDecimal totalPrice = (BigDecimal) aggregationResult.get(2);\n",
    "BigDecimal averagePrice = (BigDecimal) aggregationResult.get(3);\n",
    "BigDecimal minPrice = (BigDecimal) aggregationResult.get(4);\n",
    "BigDecimal maxPrice = (BigDecimal) aggregationResult.get(5);\n",
    "\n",
    "System.out.println(\"highestPricedProduct is: \" + highestPricedProduct);\n",
    "System.out.println(\"lowestPricedProduct is: \" + lowestPricedProduct);\n",
    "System.out.println(\"totalPrice is: \" + totalPrice);\n",
    "System.out.println(\"averagePrice is: \" + averagePrice);\n",
    "System.out.println(\"minPrice is: \" + minPrice);\n",
    "System.out.println(\"maxPrice is: \" + maxPrice);\n",
    "\n"
   ]
  },
  {
   "cell_type": "code",
   "execution_count": null,
   "id": "3a6ab043-fdec-4edf-b852-9cfd3475577f",
   "metadata": {},
   "outputs": [],
   "source": []
  }
 ],
 "metadata": {
  "kernelspec": {
   "display_name": "Ganymede 2.1.2 (Java 17) with gs-dev-lab 1.0",
   "language": "java",
   "name": "ganymede-2.1.2-java-17-gs-dev-lab-1.0"
  },
  "language_info": {
   "file_extension": ".java",
   "mimetype": "text/x-java",
   "name": "java",
   "version": "11"
  }
 },
 "nbformat": 4,
 "nbformat_minor": 5
}
