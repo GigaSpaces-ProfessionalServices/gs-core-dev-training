{
 "cells": [
  {
   "cell_type": "markdown",
   "id": "8d97afc6-8521-4192-a51e-97993b4a6575",
   "metadata": {},
   "source": [
    "%%markdown\n",
    "\n",
    "# GigaSpaces Task Examples\n",
    "This notebook will demonstrate the basics of the GigaSpaces task API.\n",
    "\n"
   ]
  },
  {
   "cell_type": "markdown",
   "id": "cd458719-4ddf-4031-a745-ce15718d591c",
   "metadata": {},
   "source": [
    "%%markdown\n",
    "\n",
    "##### GigaSpaces start up instructions\n",
    "\n",
    "1. In a console window, go to the GigaSpaces install directory/bin (for convenience GS_HOME has already been defined).\n",
    "\n",
    "`cd $GS_HOME/bin`\n",
    "\n",
    "2. Start the service grid with a manager and 4 GSCs (in developer mode)\n",
    "\n",
    "`./gs.sh host run-agent --auto --gsc=4`\n",
    "\n",
    "3. In another console window, deploy a space named demo.\n",
    "\n",
    "`./gs.sh space deploy --partitions=2 --ha demo`\n"
   ]
  },
  {
   "cell_type": "code",
   "execution_count": null,
   "id": "e2bbedf4-5045-4b93-9472-40c31e063b1f",
   "metadata": {},
   "outputs": [],
   "source": [
    "%%pom\n",
    "repositories:\n",
    "  - id: org.openspaces\n",
    "    url: https://maven-repository.openspaces.org\n",
    "dependencies:\n",
    "  - groupId: org.gigaspaces\n",
    "    artifactId: xap-openspaces\n",
    "    version: 16.4.0\n",
    "\n",
    "  - groupId: com.gigaspaces.training\n",
    "    artifactId: model\n",
    "    version: 1.0\n",
    "        "
   ]
  },
  {
   "cell_type": "code",
   "execution_count": null,
   "id": "5a0cff02-883e-498b-af09-9c1066ff115e",
   "metadata": {},
   "outputs": [],
   "source": [
    "%%classpath"
   ]
  },
  {
   "cell_type": "code",
   "execution_count": null,
   "id": "2af5a3c6-ebf9-4a00-9869-01a677f97c93",
   "metadata": {},
   "outputs": [],
   "source": [
    "%%java\n",
    "\n",
    "import com.gigaspaces.async.AsyncFuture;\n",
    "import com.gigaspaces.async.AsyncFutureListener;\n",
    "import com.gigaspaces.async.AsyncResult;\n",
    "\n",
    "\n",
    "import org.openspaces.core.GigaSpace;\n",
    "import org.openspaces.core.GigaSpaceConfigurer;\n",
    "import org.openspaces.core.space.SpaceProxyConfigurer;\n",
    "\n",
    "import org.openspaces.core.executor.DistributedTask;\n",
    "\n",
    "import java.util.List;\n",
    "\n"
   ]
  },
  {
   "cell_type": "code",
   "execution_count": null,
   "id": "3a6ab043-fdec-4edf-b852-9cfd3475577f",
   "metadata": {},
   "outputs": [],
   "source": [
    "%%java\n",
    "\n",
    "// define the DistributedTask\n",
    "public class MyDistTask implements DistributedTask<Integer, Long>, java.io.Serializable {\n",
    "    private static final long serialVersionUID = 0L;\n",
    "    \n",
    "    public Integer execute() throws Exception {\n",
    "        return 1;\n",
    "    }\n",
    "\n",
    "    @Override\n",
    "    public Long reduce(List<AsyncResult<Integer>> results) throws Exception {\n",
    "        long count = 0;\n",
    "        for (AsyncResult<Integer> result : results) {\n",
    "            if (result.getException() != null) {\n",
    "                throw result.getException();\n",
    "            }\n",
    "            count += result.getResult();\n",
    "        }\n",
    "        return count;\n",
    "    }\n",
    "}\n"
   ]
  },
  {
   "cell_type": "code",
   "execution_count": null,
   "id": "6a8790e8-6b18-4880-9491-789af5a12b34",
   "metadata": {},
   "outputs": [],
   "source": [
    "%%java\n",
    "\n",
    "public class MyFutureListener implements AsyncFutureListener<Long> {\n",
    "    @Override\n",
    "    public void onResult (AsyncResult <Long> asyncResult) {\n",
    "        if (asyncResult.getException() != null) {\n",
    "            try {\n",
    "                throw asyncResult.getException();\n",
    "            } catch (Exception e) {\n",
    "                e.printStackTrace();\n",
    "            }\n",
    "        }\n",
    "    }\n",
    "}"
   ]
  },
  {
   "cell_type": "code",
   "execution_count": null,
   "id": "efad1863-78a6-48e7-8833-9a28d0b3a2cc",
   "metadata": {},
   "outputs": [],
   "source": [
    "%%java\n",
    "// an example of instantiating a remote proxy\n",
    "SpaceProxyConfigurer configurer = new SpaceProxyConfigurer(\"demo\");\n",
    "GigaSpace gigaSpace = new GigaSpaceConfigurer(configurer).gigaSpace();\n",
    "\n",
    "AsyncFuture<Long> future = gigaSpace.execute(new MyDistTask());\n",
    "\n",
    "future.setListener(new MyFutureListener());\n",
    "\n",
    "long result = future.get();\n",
    "\n",
    "System.out.println(\"Result is: \" + result);\n"
   ]
  },
  {
   "cell_type": "code",
   "execution_count": null,
   "id": "da4f4c09-ab42-4455-b142-d36af307a113",
   "metadata": {},
   "outputs": [],
   "source": []
  }
 ],
 "metadata": {
  "kernelspec": {
   "display_name": "Ganymede 2.1.2 (Java 17) with gs-dev-lab 1.0",
   "language": "java",
   "name": "ganymede-2.1.2-java-17-gs-dev-lab-1.0"
  },
  "language_info": {
   "file_extension": ".java",
   "mimetype": "text/x-java",
   "name": "java",
   "version": "11"
  }
 },
 "nbformat": 4,
 "nbformat_minor": 5
}
